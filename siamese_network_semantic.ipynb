{
 "cells": [
  {
   "cell_type": "markdown",
   "metadata": {
    "colab_type": "text",
    "id": "view-in-github"
   },
   "source": [
    "[View in Colaboratory](https://colab.research.google.com/github/zacateras/deep-siamese-text-similarity/blob/wedt/siamese_semantic.ipynb)"
   ]
  },
  {
   "cell_type": "code",
   "execution_count": 1,
   "metadata": {
    "colab": {
     "base_uri": "https://localhost:8080/",
     "height": 35
    },
    "colab_type": "code",
    "id": "B7ojtnE_rA_5",
    "outputId": "17f03b32-d260-4cf1-f9c6-cedb195a61bc"
   },
   "outputs": [
    {
     "data": {
      "text/plain": [
       "'2.7.14 (default, Sep 23 2017, 22:06:14) \\n[GCC 7.2.0]'"
      ]
     },
     "execution_count": 1,
     "metadata": {
      "tags": []
     },
     "output_type": "execute_result"
    }
   ],
   "source": [
    "# If python3 is not loaded kill the hypervisor \n",
    "# ! kill -9 -1\n",
    "import sys\n",
    "sys.version"
   ]
  },
  {
   "cell_type": "code",
   "execution_count": 2,
   "metadata": {
    "colab": {
     "base_uri": "https://localhost:8080/",
     "height": 125
    },
    "colab_type": "code",
    "id": "BbgDxnr9exwi",
    "outputId": "295de773-e308-4e8c-dccb-6d35fa949381"
   },
   "outputs": [
    {
     "name": "stdout",
     "output_type": "stream",
     "text": [
      "Cloning into 'deep-siamese-text-similarity'...\n",
      "remote: Counting objects: 141, done.\u001b[K\n",
      "remote: Compressing objects: 100% (25/25), done.\u001b[K\n",
      "remote: Total 141 (delta 12), reused 25 (delta 6), pack-reused 107\u001b[K\n",
      "Receiving objects: 100% (141/141), 2.69 MiB | 19.42 MiB/s, done.\n",
      "Resolving deltas: 100% (71/71), done.\n"
     ]
    }
   ],
   "source": [
    "! git clone -b wedt https://github.com/zacateras/deep-siamese-text-similarity.git"
   ]
  },
  {
   "cell_type": "code",
   "execution_count": 3,
   "metadata": {
    "colab": {
     "base_uri": "https://localhost:8080/",
     "height": 71
    },
    "colab_type": "code",
    "id": "nJpP6_U1fJy0",
    "outputId": "7402e336-ebc4-491d-c827-8f0c2b3c49a7"
   },
   "outputs": [
    {
     "name": "stdout",
     "output_type": "stream",
     "text": [
      "/content/deep-siamese-text-similarity\n",
      "\u001b[31mopencv-python 3.4.0.12 has requirement numpy>=1.11.1, but you'll have numpy 1.11.0 which is incompatible.\u001b[0m\n",
      "\u001b[31mtensorboard 1.7.0 has requirement numpy>=1.12.0, but you'll have numpy 1.11.0 which is incompatible.\u001b[0m\n"
     ]
    }
   ],
   "source": [
    "% cd ./deep-siamese-text-similarity\n",
    "! pip install -r requirements.txt > pip.log"
   ]
  },
  {
   "cell_type": "code",
   "execution_count": 16,
   "metadata": {
    "colab": {
     "base_uri": "https://localhost:8080/",
     "height": 593
    },
    "colab_type": "code",
    "id": "go153MoIfSZf",
    "outputId": "74f28377-06c5-4da1-919f-3351b4a3a0cc"
   },
   "outputs": [
    {
     "name": "stdout",
     "output_type": "stream",
     "text": [
      "--2018-05-19 22:25:26--  https://www.dropbox.com/s/sg4yxvzg5rysruy/wiki.simple.vec.zip?dl=0\n",
      "Resolving www.dropbox.com (www.dropbox.com)... 162.125.81.1, 2620:100:601f:1::a27d:901\n",
      "Connecting to www.dropbox.com (www.dropbox.com)|162.125.81.1|:443... connected.\n",
      "HTTP request sent, awaiting response... 302 Found\n",
      "Location: https://dl.dropboxusercontent.com/content_link/oA6aL9DtpuwufEfl7S27s4TWfz7xuiZplPiuxm5uaxMHw11HWOHarxPtsyu4hS6C/file [following]\n",
      "--2018-05-19 22:25:28--  https://dl.dropboxusercontent.com/content_link/oA6aL9DtpuwufEfl7S27s4TWfz7xuiZplPiuxm5uaxMHw11HWOHarxPtsyu4hS6C/file\n",
      "Resolving dl.dropboxusercontent.com (dl.dropboxusercontent.com)... 162.125.9.6, 2620:100:601f:6::a27d:906\n",
      "Connecting to dl.dropboxusercontent.com (dl.dropboxusercontent.com)|162.125.9.6|:443... connected.\n",
      "HTTP request sent, awaiting response... 200 OK\n",
      "Length: 108805476 (104M) [application/zip]\n",
      "Saving to: ‘/content/deep-siamese-text-similarity/data/wiki.simple.vec.zip’\n",
      "\n",
      "/content/deep-siame 100%[===================>] 103.76M  45.4MB/s    in 2.3s    \n",
      "\n",
      "2018-05-19 22:25:31 (45.4 MB/s) - ‘/content/deep-siamese-text-similarity/data/wiki.simple.vec.zip’ saved [108805476/108805476]\n",
      "\n",
      "--2018-05-19 22:25:36--  https://www.dropbox.com/s/yz1lsnvholdj0nn/sts.zip?dl=0\n",
      "Resolving www.dropbox.com (www.dropbox.com)... 162.125.81.1, 2620:100:601f:1::a27d:901\n",
      "Connecting to www.dropbox.com (www.dropbox.com)|162.125.81.1|:443... connected.\n",
      "HTTP request sent, awaiting response... 302 Found\n",
      "Location: https://dl.dropboxusercontent.com/content_link/SbBCAXXfqyA4MXkZRdOyd2cuhZwttPnHiLCnOQqaApu9BUWRd2TTwyMjMWNSL5ie/file [following]\n",
      "--2018-05-19 22:25:37--  https://dl.dropboxusercontent.com/content_link/SbBCAXXfqyA4MXkZRdOyd2cuhZwttPnHiLCnOQqaApu9BUWRd2TTwyMjMWNSL5ie/file\n",
      "Resolving dl.dropboxusercontent.com (dl.dropboxusercontent.com)... 162.125.9.6, 2620:100:601f:6::a27d:906\n",
      "Connecting to dl.dropboxusercontent.com (dl.dropboxusercontent.com)|162.125.9.6|:443... connected.\n",
      "HTTP request sent, awaiting response... 200 OK\n",
      "Length: 2106387 (2.0M) [application/zip]\n",
      "Saving to: ‘/content/deep-siamese-text-similarity/data/sts.zip’\n",
      "\n",
      "/content/deep-siame 100%[===================>]   2.01M  --.-KB/s    in 0.1s    \n",
      "\n",
      "2018-05-19 22:25:38 (16.2 MB/s) - ‘/content/deep-siamese-text-similarity/data/sts.zip’ saved [2106387/2106387]\n",
      "\n"
     ]
    }
   ],
   "source": [
    "! rm -r data\n",
    "! tools/download.w2v.en.simple.sh\n",
    "! tools/download.sts.sh"
   ]
  },
  {
   "cell_type": "code",
   "execution_count": null,
   "metadata": {},
   "outputs": [],
   "source": [
    "! tools/train_all.sh"
   ]
  },
  {
   "cell_type": "code",
   "execution_count": 4,
   "metadata": {
    "colab": {},
    "colab_type": "code",
    "id": "VVTbBwwEoaDO"
   },
   "outputs": [],
   "source": [
    "import os"
   ]
  },
  {
   "cell_type": "code",
   "execution_count": 42,
   "metadata": {},
   "outputs": [
    {
     "name": "stdout",
     "output_type": "stream",
     "text": [
      "Processing snli_1n-500,250,100_1d-1.0_2n-500,250,100_2d-1.0...\n",
      "Processing snli_tied_1n-150,100,50_1d-1.0_2n-150,100,50_2d-1.0...\n",
      "Processing snli_tied_1n-50,50,50_1d-1.0_2n-50,50,50_2d-1.0...\n",
      "Processing sick2014_1n-50,50,50_1d-1.0_2n-50,50,50_2d-1.0...\n",
      "Processing snli_tied_1n-150,100,50_1d-0.8_2n-150,100,50_2d-0.8...\n",
      "Processing snli_1n-50,50,50_1d-1.0_2n-50,50,50_2d-1.0...\n",
      "Processing snli_tied_1n-500,250,100_1d-1.0_2n-500,250,100_2d-1.0...\n",
      "Processing snli_1n-150,100,50_1d-0.8_2n-150,100,50_2d-0.8...\n",
      "Processing snli_1n-150,100,50_1d-1.0_2n-150,100,50_2d-1.0...\n"
     ]
    }
   ],
   "source": [
    "with open('runs/evaluation_combined.tsv', 'w') as evaluation_combined_file:\n",
    "    for run in os.listdir('./runs'):\n",
    "        if os.path.isdir('runs/%s' % run):\n",
    "            print('Processing %s...' % run)\n",
    "            with open('runs/%s/evaluation.tsv' % run, 'r') as evaluation_file:\n",
    "                for line in evaluation_file:\n",
    "                    evaluation_combined_file.write('%s\\t%s' % (run, line))"
   ]
  },
  {
   "cell_type": "code",
   "execution_count": 62,
   "metadata": {},
   "outputs": [],
   "source": [
    "import pandas as pd\n",
    "\n",
    "df = pd.read_csv('runs/evaluation_combined.tsv', sep='\\t', header = None, names = ['model', 'dataset', 'pcc', 'rho', 'mse5'])\n",
    "df['mse1'] = df['mse5'] / 5.0\n",
    "df = df.drop(columns = ['rho'])"
   ]
  },
  {
   "cell_type": "code",
   "execution_count": 63,
   "metadata": {},
   "outputs": [
    {
     "data": {
      "text/html": [
       "<div>\n",
       "<style scoped>\n",
       "    .dataframe tbody tr th:only-of-type {\n",
       "        vertical-align: middle;\n",
       "    }\n",
       "\n",
       "    .dataframe tbody tr th {\n",
       "        vertical-align: top;\n",
       "    }\n",
       "\n",
       "    .dataframe thead th {\n",
       "        text-align: right;\n",
       "    }\n",
       "</style>\n",
       "<table border=\"1\" class=\"dataframe\">\n",
       "  <thead>\n",
       "    <tr style=\"text-align: right;\">\n",
       "      <th></th>\n",
       "      <th>model</th>\n",
       "      <th>dataset</th>\n",
       "      <th>pcc</th>\n",
       "      <th>mse5</th>\n",
       "      <th>mse1</th>\n",
       "    </tr>\n",
       "  </thead>\n",
       "  <tbody>\n",
       "    <tr>\n",
       "      <th>22</th>\n",
       "      <td>snli_tied_1n-150,100,50_1d-1.0_2n-150,100,50_2...</td>\n",
       "      <td>semeval2015-sts-images</td>\n",
       "      <td>0.667194</td>\n",
       "      <td>1.111719</td>\n",
       "      <td>0.222344</td>\n",
       "    </tr>\n",
       "    <tr>\n",
       "      <th>19</th>\n",
       "      <td>snli_tied_1n-150,100,50_1d-1.0_2n-150,100,50_2...</td>\n",
       "      <td>semeval2015-sts-answers-students</td>\n",
       "      <td>0.423141</td>\n",
       "      <td>1.154750</td>\n",
       "      <td>0.230950</td>\n",
       "    </tr>\n",
       "    <tr>\n",
       "      <th>31</th>\n",
       "      <td>snli_tied_1n-50,50,50_1d-1.0_2n-50,50,50_2d-1.0</td>\n",
       "      <td>semeval2015-sts-answers-students</td>\n",
       "      <td>0.427069</td>\n",
       "      <td>1.158849</td>\n",
       "      <td>0.231770</td>\n",
       "    </tr>\n",
       "    <tr>\n",
       "      <th>34</th>\n",
       "      <td>snli_tied_1n-50,50,50_1d-1.0_2n-50,50,50_2d-1.0</td>\n",
       "      <td>semeval2015-sts-images</td>\n",
       "      <td>0.665915</td>\n",
       "      <td>1.171034</td>\n",
       "      <td>0.234207</td>\n",
       "    </tr>\n",
       "    <tr>\n",
       "      <th>71</th>\n",
       "      <td>snli_tied_1n-500,250,100_1d-1.0_2n-500,250,100...</td>\n",
       "      <td>semeval2017-sts-track5</td>\n",
       "      <td>0.468057</td>\n",
       "      <td>1.191889</td>\n",
       "      <td>0.238378</td>\n",
       "    </tr>\n",
       "    <tr>\n",
       "      <th>81</th>\n",
       "      <td>snli_tied_1n-500,250,100_1d-1.0_2n-500,250,100...</td>\n",
       "      <td>semeval2015-sts-images</td>\n",
       "      <td>0.671226</td>\n",
       "      <td>1.192194</td>\n",
       "      <td>0.238439</td>\n",
       "    </tr>\n",
       "    <tr>\n",
       "      <th>35</th>\n",
       "      <td>snli_tied_1n-50,50,50_1d-1.0_2n-50,50,50_2d-1.0</td>\n",
       "      <td>sick2014</td>\n",
       "      <td>0.468598</td>\n",
       "      <td>1.205824</td>\n",
       "      <td>0.241165</td>\n",
       "    </tr>\n",
       "    <tr>\n",
       "      <th>95</th>\n",
       "      <td>snli_1n-150,100,50_1d-1.0_2n-150,100,50_2d-1.0</td>\n",
       "      <td>semeval2017-sts-track5</td>\n",
       "      <td>0.274367</td>\n",
       "      <td>1.209585</td>\n",
       "      <td>0.241917</td>\n",
       "    </tr>\n",
       "    <tr>\n",
       "      <th>24</th>\n",
       "      <td>snli_tied_1n-50,50,50_1d-1.0_2n-50,50,50_2d-1.0</td>\n",
       "      <td>semeval2017-sts-track5</td>\n",
       "      <td>0.472038</td>\n",
       "      <td>1.212033</td>\n",
       "      <td>0.242407</td>\n",
       "    </tr>\n",
       "    <tr>\n",
       "      <th>12</th>\n",
       "      <td>snli_tied_1n-150,100,50_1d-1.0_2n-150,100,50_2...</td>\n",
       "      <td>semeval2017-sts-track5</td>\n",
       "      <td>0.466301</td>\n",
       "      <td>1.218704</td>\n",
       "      <td>0.243741</td>\n",
       "    </tr>\n",
       "  </tbody>\n",
       "</table>\n",
       "</div>"
      ],
      "text/plain": [
       "                                                model  \\\n",
       "22  snli_tied_1n-150,100,50_1d-1.0_2n-150,100,50_2...   \n",
       "19  snli_tied_1n-150,100,50_1d-1.0_2n-150,100,50_2...   \n",
       "31    snli_tied_1n-50,50,50_1d-1.0_2n-50,50,50_2d-1.0   \n",
       "34    snli_tied_1n-50,50,50_1d-1.0_2n-50,50,50_2d-1.0   \n",
       "71  snli_tied_1n-500,250,100_1d-1.0_2n-500,250,100...   \n",
       "81  snli_tied_1n-500,250,100_1d-1.0_2n-500,250,100...   \n",
       "35    snli_tied_1n-50,50,50_1d-1.0_2n-50,50,50_2d-1.0   \n",
       "95     snli_1n-150,100,50_1d-1.0_2n-150,100,50_2d-1.0   \n",
       "24    snli_tied_1n-50,50,50_1d-1.0_2n-50,50,50_2d-1.0   \n",
       "12  snli_tied_1n-150,100,50_1d-1.0_2n-150,100,50_2...   \n",
       "\n",
       "                             dataset       pcc      mse5      mse1  \n",
       "22            semeval2015-sts-images  0.667194  1.111719  0.222344  \n",
       "19  semeval2015-sts-answers-students  0.423141  1.154750  0.230950  \n",
       "31  semeval2015-sts-answers-students  0.427069  1.158849  0.231770  \n",
       "34            semeval2015-sts-images  0.665915  1.171034  0.234207  \n",
       "71            semeval2017-sts-track5  0.468057  1.191889  0.238378  \n",
       "81            semeval2015-sts-images  0.671226  1.192194  0.238439  \n",
       "35                          sick2014  0.468598  1.205824  0.241165  \n",
       "95            semeval2017-sts-track5  0.274367  1.209585  0.241917  \n",
       "24            semeval2017-sts-track5  0.472038  1.212033  0.242407  \n",
       "12            semeval2017-sts-track5  0.466301  1.218704  0.243741  "
      ]
     },
     "execution_count": 63,
     "metadata": {},
     "output_type": "execute_result"
    }
   ],
   "source": [
    "df.sort_values(by = ['mse1'], ascending = True).head(10)"
   ]
  },
  {
   "cell_type": "code",
   "execution_count": 64,
   "metadata": {},
   "outputs": [
    {
     "data": {
      "text/html": [
       "<div>\n",
       "<style scoped>\n",
       "    .dataframe tbody tr th:only-of-type {\n",
       "        vertical-align: middle;\n",
       "    }\n",
       "\n",
       "    .dataframe tbody tr th {\n",
       "        vertical-align: top;\n",
       "    }\n",
       "\n",
       "    .dataframe thead th {\n",
       "        text-align: right;\n",
       "    }\n",
       "</style>\n",
       "<table border=\"1\" class=\"dataframe\">\n",
       "  <thead>\n",
       "    <tr style=\"text-align: right;\">\n",
       "      <th></th>\n",
       "      <th>pcc</th>\n",
       "      <th>mse5</th>\n",
       "      <th>mse1</th>\n",
       "    </tr>\n",
       "  </thead>\n",
       "  <tbody>\n",
       "    <tr>\n",
       "      <th>count</th>\n",
       "      <td>107.000000</td>\n",
       "      <td>107.000000</td>\n",
       "      <td>107.000000</td>\n",
       "    </tr>\n",
       "    <tr>\n",
       "      <th>mean</th>\n",
       "      <td>0.207462</td>\n",
       "      <td>1.518006</td>\n",
       "      <td>0.303601</td>\n",
       "    </tr>\n",
       "    <tr>\n",
       "      <th>std</th>\n",
       "      <td>0.172192</td>\n",
       "      <td>0.196408</td>\n",
       "      <td>0.039282</td>\n",
       "    </tr>\n",
       "    <tr>\n",
       "      <th>min</th>\n",
       "      <td>-0.144816</td>\n",
       "      <td>1.111719</td>\n",
       "      <td>0.222344</td>\n",
       "    </tr>\n",
       "    <tr>\n",
       "      <th>25%</th>\n",
       "      <td>0.071560</td>\n",
       "      <td>1.397772</td>\n",
       "      <td>0.279554</td>\n",
       "    </tr>\n",
       "    <tr>\n",
       "      <th>50%</th>\n",
       "      <td>0.186899</td>\n",
       "      <td>1.513038</td>\n",
       "      <td>0.302608</td>\n",
       "    </tr>\n",
       "    <tr>\n",
       "      <th>75%</th>\n",
       "      <td>0.317532</td>\n",
       "      <td>1.672787</td>\n",
       "      <td>0.334557</td>\n",
       "    </tr>\n",
       "    <tr>\n",
       "      <th>max</th>\n",
       "      <td>0.671226</td>\n",
       "      <td>1.983374</td>\n",
       "      <td>0.396675</td>\n",
       "    </tr>\n",
       "  </tbody>\n",
       "</table>\n",
       "</div>"
      ],
      "text/plain": [
       "              pcc        mse5        mse1\n",
       "count  107.000000  107.000000  107.000000\n",
       "mean     0.207462    1.518006    0.303601\n",
       "std      0.172192    0.196408    0.039282\n",
       "min     -0.144816    1.111719    0.222344\n",
       "25%      0.071560    1.397772    0.279554\n",
       "50%      0.186899    1.513038    0.302608\n",
       "75%      0.317532    1.672787    0.334557\n",
       "max      0.671226    1.983374    0.396675"
      ]
     },
     "execution_count": 64,
     "metadata": {},
     "output_type": "execute_result"
    }
   ],
   "source": [
    "df.describe()"
   ]
  },
  {
   "cell_type": "code",
   "execution_count": 67,
   "metadata": {},
   "outputs": [
    {
     "data": {
      "text/html": [
       "<div>\n",
       "<style scoped>\n",
       "    .dataframe tbody tr th:only-of-type {\n",
       "        vertical-align: middle;\n",
       "    }\n",
       "\n",
       "    .dataframe tbody tr th {\n",
       "        vertical-align: top;\n",
       "    }\n",
       "\n",
       "    .dataframe thead th {\n",
       "        text-align: right;\n",
       "    }\n",
       "</style>\n",
       "<table border=\"1\" class=\"dataframe\">\n",
       "  <thead>\n",
       "    <tr style=\"text-align: right;\">\n",
       "      <th></th>\n",
       "      <th>pcc</th>\n",
       "      <th>mse5</th>\n",
       "      <th>mse1</th>\n",
       "    </tr>\n",
       "    <tr>\n",
       "      <th>model</th>\n",
       "      <th></th>\n",
       "      <th></th>\n",
       "      <th></th>\n",
       "    </tr>\n",
       "  </thead>\n",
       "  <tbody>\n",
       "    <tr>\n",
       "      <th>snli_tied_1n-50,50,50_1d-1.0_2n-50,50,50_2d-1.0</th>\n",
       "      <td>0.352802</td>\n",
       "      <td>1.420061</td>\n",
       "      <td>0.284012</td>\n",
       "    </tr>\n",
       "    <tr>\n",
       "      <th>snli_tied_1n-150,100,50_1d-1.0_2n-150,100,50_2d-1.0</th>\n",
       "      <td>0.352494</td>\n",
       "      <td>1.431450</td>\n",
       "      <td>0.286290</td>\n",
       "    </tr>\n",
       "    <tr>\n",
       "      <th>snli_1n-50,50,50_1d-1.0_2n-50,50,50_2d-1.0</th>\n",
       "      <td>0.142370</td>\n",
       "      <td>1.433100</td>\n",
       "      <td>0.286620</td>\n",
       "    </tr>\n",
       "    <tr>\n",
       "      <th>snli_1n-150,100,50_1d-1.0_2n-150,100,50_2d-1.0</th>\n",
       "      <td>0.110528</td>\n",
       "      <td>1.494837</td>\n",
       "      <td>0.298967</td>\n",
       "    </tr>\n",
       "    <tr>\n",
       "      <th>snli_1n-150,100,50_1d-0.8_2n-150,100,50_2d-0.8</th>\n",
       "      <td>0.103233</td>\n",
       "      <td>1.544317</td>\n",
       "      <td>0.308863</td>\n",
       "    </tr>\n",
       "    <tr>\n",
       "      <th>snli_tied_1n-500,250,100_1d-1.0_2n-500,250,100_2d-1.0</th>\n",
       "      <td>0.312196</td>\n",
       "      <td>1.547986</td>\n",
       "      <td>0.309597</td>\n",
       "    </tr>\n",
       "    <tr>\n",
       "      <th>snli_tied_1n-150,100,50_1d-0.8_2n-150,100,50_2d-0.8</th>\n",
       "      <td>0.284520</td>\n",
       "      <td>1.563654</td>\n",
       "      <td>0.312731</td>\n",
       "    </tr>\n",
       "    <tr>\n",
       "      <th>snli_1n-500,250,100_1d-1.0_2n-500,250,100_2d-1.0</th>\n",
       "      <td>-0.005859</td>\n",
       "      <td>1.584315</td>\n",
       "      <td>0.316863</td>\n",
       "    </tr>\n",
       "    <tr>\n",
       "      <th>sick2014_1n-50,50,50_1d-1.0_2n-50,50,50_2d-1.0</th>\n",
       "      <td>0.215552</td>\n",
       "      <td>1.653634</td>\n",
       "      <td>0.330727</td>\n",
       "    </tr>\n",
       "  </tbody>\n",
       "</table>\n",
       "</div>"
      ],
      "text/plain": [
       "                                                         pcc      mse5  \\\n",
       "model                                                                    \n",
       "snli_tied_1n-50,50,50_1d-1.0_2n-50,50,50_2d-1.0     0.352802  1.420061   \n",
       "snli_tied_1n-150,100,50_1d-1.0_2n-150,100,50_2d...  0.352494  1.431450   \n",
       "snli_1n-50,50,50_1d-1.0_2n-50,50,50_2d-1.0          0.142370  1.433100   \n",
       "snli_1n-150,100,50_1d-1.0_2n-150,100,50_2d-1.0      0.110528  1.494837   \n",
       "snli_1n-150,100,50_1d-0.8_2n-150,100,50_2d-0.8      0.103233  1.544317   \n",
       "snli_tied_1n-500,250,100_1d-1.0_2n-500,250,100_...  0.312196  1.547986   \n",
       "snli_tied_1n-150,100,50_1d-0.8_2n-150,100,50_2d...  0.284520  1.563654   \n",
       "snli_1n-500,250,100_1d-1.0_2n-500,250,100_2d-1.0   -0.005859  1.584315   \n",
       "sick2014_1n-50,50,50_1d-1.0_2n-50,50,50_2d-1.0      0.215552  1.653634   \n",
       "\n",
       "                                                        mse1  \n",
       "model                                                         \n",
       "snli_tied_1n-50,50,50_1d-1.0_2n-50,50,50_2d-1.0     0.284012  \n",
       "snli_tied_1n-150,100,50_1d-1.0_2n-150,100,50_2d...  0.286290  \n",
       "snli_1n-50,50,50_1d-1.0_2n-50,50,50_2d-1.0          0.286620  \n",
       "snli_1n-150,100,50_1d-1.0_2n-150,100,50_2d-1.0      0.298967  \n",
       "snli_1n-150,100,50_1d-0.8_2n-150,100,50_2d-0.8      0.308863  \n",
       "snli_tied_1n-500,250,100_1d-1.0_2n-500,250,100_...  0.309597  \n",
       "snli_tied_1n-150,100,50_1d-0.8_2n-150,100,50_2d...  0.312731  \n",
       "snli_1n-500,250,100_1d-1.0_2n-500,250,100_2d-1.0    0.316863  \n",
       "sick2014_1n-50,50,50_1d-1.0_2n-50,50,50_2d-1.0      0.330727  "
      ]
     },
     "execution_count": 67,
     "metadata": {},
     "output_type": "execute_result"
    }
   ],
   "source": [
    "df.groupby('model').mean().sort_values(by = ['mse1'], ascending = True)"
   ]
  },
  {
   "cell_type": "code",
   "execution_count": 66,
   "metadata": {},
   "outputs": [
    {
     "data": {
      "text/html": [
       "<div>\n",
       "<style scoped>\n",
       "    .dataframe tbody tr th:only-of-type {\n",
       "        vertical-align: middle;\n",
       "    }\n",
       "\n",
       "    .dataframe tbody tr th {\n",
       "        vertical-align: top;\n",
       "    }\n",
       "\n",
       "    .dataframe thead th {\n",
       "        text-align: right;\n",
       "    }\n",
       "</style>\n",
       "<table border=\"1\" class=\"dataframe\">\n",
       "  <thead>\n",
       "    <tr style=\"text-align: right;\">\n",
       "      <th></th>\n",
       "      <th>pcc</th>\n",
       "      <th>mse5</th>\n",
       "      <th>mse1</th>\n",
       "    </tr>\n",
       "    <tr>\n",
       "      <th>dataset</th>\n",
       "      <th></th>\n",
       "      <th></th>\n",
       "      <th></th>\n",
       "    </tr>\n",
       "  </thead>\n",
       "  <tbody>\n",
       "    <tr>\n",
       "      <th>semeval2017-sts-track5</th>\n",
       "      <td>0.314622</td>\n",
       "      <td>1.314025</td>\n",
       "      <td>0.262805</td>\n",
       "    </tr>\n",
       "    <tr>\n",
       "      <th>semeval2015-sts-answers-students</th>\n",
       "      <td>0.254286</td>\n",
       "      <td>1.314701</td>\n",
       "      <td>0.262940</td>\n",
       "    </tr>\n",
       "    <tr>\n",
       "      <th>semeval2015-sts-images</th>\n",
       "      <td>0.411807</td>\n",
       "      <td>1.338057</td>\n",
       "      <td>0.267611</td>\n",
       "    </tr>\n",
       "    <tr>\n",
       "      <th>sick2014</th>\n",
       "      <td>0.315402</td>\n",
       "      <td>1.420584</td>\n",
       "      <td>0.284117</td>\n",
       "    </tr>\n",
       "    <tr>\n",
       "      <th>semeval2015-sts-belief</th>\n",
       "      <td>0.124022</td>\n",
       "      <td>1.502295</td>\n",
       "      <td>0.300459</td>\n",
       "    </tr>\n",
       "    <tr>\n",
       "      <th>semeval2015-sts-headlines</th>\n",
       "      <td>0.174499</td>\n",
       "      <td>1.526678</td>\n",
       "      <td>0.305336</td>\n",
       "    </tr>\n",
       "    <tr>\n",
       "      <th>semeval2015-sts-answers-forums</th>\n",
       "      <td>0.024932</td>\n",
       "      <td>1.546103</td>\n",
       "      <td>0.309221</td>\n",
       "    </tr>\n",
       "    <tr>\n",
       "      <th>semeval2016-sts-headlines</th>\n",
       "      <td>0.188816</td>\n",
       "      <td>1.566602</td>\n",
       "      <td>0.313320</td>\n",
       "    </tr>\n",
       "    <tr>\n",
       "      <th>semeval2016-sts-question-question</th>\n",
       "      <td>0.143488</td>\n",
       "      <td>1.589176</td>\n",
       "      <td>0.317835</td>\n",
       "    </tr>\n",
       "    <tr>\n",
       "      <th>semeval2016-sts-postediting</th>\n",
       "      <td>0.220605</td>\n",
       "      <td>1.609116</td>\n",
       "      <td>0.321823</td>\n",
       "    </tr>\n",
       "    <tr>\n",
       "      <th>semeval2016-sts-answer-answer</th>\n",
       "      <td>0.122064</td>\n",
       "      <td>1.705653</td>\n",
       "      <td>0.341131</td>\n",
       "    </tr>\n",
       "    <tr>\n",
       "      <th>semeval2016-sts-plagiarism</th>\n",
       "      <td>0.207000</td>\n",
       "      <td>1.772255</td>\n",
       "      <td>0.354451</td>\n",
       "    </tr>\n",
       "  </tbody>\n",
       "</table>\n",
       "</div>"
      ],
      "text/plain": [
       "                                        pcc      mse5      mse1\n",
       "dataset                                                        \n",
       "semeval2017-sts-track5             0.314622  1.314025  0.262805\n",
       "semeval2015-sts-answers-students   0.254286  1.314701  0.262940\n",
       "semeval2015-sts-images             0.411807  1.338057  0.267611\n",
       "sick2014                           0.315402  1.420584  0.284117\n",
       "semeval2015-sts-belief             0.124022  1.502295  0.300459\n",
       "semeval2015-sts-headlines          0.174499  1.526678  0.305336\n",
       "semeval2015-sts-answers-forums     0.024932  1.546103  0.309221\n",
       "semeval2016-sts-headlines          0.188816  1.566602  0.313320\n",
       "semeval2016-sts-question-question  0.143488  1.589176  0.317835\n",
       "semeval2016-sts-postediting        0.220605  1.609116  0.321823\n",
       "semeval2016-sts-answer-answer      0.122064  1.705653  0.341131\n",
       "semeval2016-sts-plagiarism         0.207000  1.772255  0.354451"
      ]
     },
     "execution_count": 66,
     "metadata": {},
     "output_type": "execute_result"
    }
   ],
   "source": [
    "df.groupby('dataset').mean().sort_values(by = ['mse1'], ascending = True)"
   ]
  },
  {
   "cell_type": "code",
   "execution_count": null,
   "metadata": {},
   "outputs": [],
   "source": []
  }
 ],
 "metadata": {
  "colab": {
   "collapsed_sections": [],
   "name": "siamese_semantic.ipynb",
   "provenance": [],
   "version": "0.3.2"
  },
  "kernelspec": {
   "display_name": "Python 3",
   "language": "python",
   "name": "python3"
  },
  "language_info": {
   "codemirror_mode": {
    "name": "ipython",
    "version": 3
   },
   "file_extension": ".py",
   "mimetype": "text/x-python",
   "name": "python",
   "nbconvert_exporter": "python",
   "pygments_lexer": "ipython3",
   "version": "3.6.4"
  }
 },
 "nbformat": 4,
 "nbformat_minor": 1
}
